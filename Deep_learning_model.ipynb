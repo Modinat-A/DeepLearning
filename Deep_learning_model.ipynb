{
  "nbformat": 4,
  "nbformat_minor": 0,
  "metadata": {
    "colab": {
      "name": "Deep_learning_ipynb",
      "provenance": [],
      "collapsed_sections": [],
      "mount_file_id": "14p8x0UngnYB93C-Bn1sW4Sj5Y3biHa3_",
      "authorship_tag": "ABX9TyPyZfUQq5Xab9dmcAl4XXl1",
      "include_colab_link": true
    },
    "kernelspec": {
      "name": "python3",
      "display_name": "Python 3"
    },
    "language_info": {
      "name": "python"
    }
  },
  "cells": [
    {
      "cell_type": "markdown",
      "metadata": {
        "id": "view-in-github",
        "colab_type": "text"
      },
      "source": [
        "<a href=\"https://colab.research.google.com/github/Modinat-A/DeepLearning/blob/main/Deep_learning_model.ipynb\" target=\"_parent\"><img src=\"https://colab.research.google.com/assets/colab-badge.svg\" alt=\"Open In Colab\"/></a>"
      ]
    },
    {
      "cell_type": "code",
      "source": [
        "from google.colab import drive\n",
        "drive.mount('/content/drive')"
      ],
      "metadata": {
        "colab": {
          "base_uri": "https://localhost:8080/"
        },
        "id": "eh_YSUa4iEKu",
        "outputId": "195ce785-88c1-4709-c2e0-aed9d2057f1d"
      },
      "execution_count": null,
      "outputs": [
        {
          "output_type": "stream",
          "name": "stdout",
          "text": [
            "Drive already mounted at /content/drive; to attempt to forcibly remount, call drive.mount(\"/content/drive\", force_remount=True).\n"
          ]
        }
      ]
    },
    {
      "cell_type": "code",
      "execution_count": null,
      "metadata": {
        "id": "gzx_huawqxMf"
      },
      "outputs": [],
      "source": [
        "import numpy as np\n",
        "import scipy.io\n",
        "import torch.nn as nn\n",
        "import torch.nn.functional as F\n",
        "import scipy.io.wavfile\n",
        "import scipy.signal\n",
        "import numpy as np\n",
        "import matplotlib.pyplot as plt\n",
        "from sklearn.model_selection import train_test_split\n",
        "from sklearn.preprocessing import MinMaxScaler\n",
        "from sklearn.metrics import plot_confusion_matrix\n",
        "from sklearn.model_selection import train_test_split\n",
        "from sklearn.svm import SVC\n",
        "from sklearn.metrics import confusion_matrix\n",
        "import seaborn as sns\n",
        "import matplotlib.pyplot as plt"
      ]
    },
    {
      "cell_type": "code",
      "source": [
        "# load EEG data\n",
        "mat = scipy.io.loadmat('/content/drive/My Drive/WLDataCW.mat')\n",
        "# get X\n",
        "data = mat.get('data')\n",
        "row,columns,samples = data.shape # number of channels features x data point  x  samples\n",
        "print(row,columns,samples)"
      ],
      "metadata": {
        "colab": {
          "base_uri": "https://localhost:8080/"
        },
        "id": "txlWj-jqrE6g",
        "outputId": "8020756a-0ddc-4620-f91c-7074c1a8079a"
      },
      "execution_count": null,
      "outputs": [
        {
          "output_type": "stream",
          "name": "stdout",
          "text": [
            "62 512 360\n"
          ]
        }
      ]
    },
    {
      "cell_type": "code",
      "source": [
        "# Get labels\n",
        "labels = mat.get('label')\n",
        "labels = labels.T\n",
        "print(labels.shape)"
      ],
      "metadata": {
        "colab": {
          "base_uri": "https://localhost:8080/"
        },
        "id": "bX-Qqw0qrMss",
        "outputId": "e210b5fe-8ed9-4212-e729-55c7b8bb8483"
      },
      "execution_count": null,
      "outputs": [
        {
          "output_type": "stream",
          "name": "stdout",
          "text": [
            "(360, 1)\n"
          ]
        }
      ]
    },
    {
      "cell_type": "markdown",
      "source": [
        "# Data Preprocessing"
      ],
      "metadata": {
        "id": "pFGdJN0VxuXk"
      }
    },
    {
      "cell_type": "code",
      "source": [
        "#flatten data \n",
        "data= data.T\n",
        "data=data.flatten().reshape(data.shape[0],data.shape[1] * data.shape[2])\n",
        "scaler = MinMaxScaler(feature_range=(-1, 1))\n",
        "x_scaled = scaler.fit_transform(data)\n",
        "data = x_scaled\n",
        "print(data.shape)"
      ],
      "metadata": {
        "colab": {
          "base_uri": "https://localhost:8080/"
        },
        "id": "weYcX7qEsJTA",
        "outputId": "8be82587-9c7c-4fe0-8431-5b00edaa6352"
      },
      "execution_count": null,
      "outputs": [
        {
          "output_type": "stream",
          "name": "stdout",
          "text": [
            "(360, 31744)\n"
          ]
        }
      ]
    },
    {
      "cell_type": "code",
      "source": [
        "# filtered data\n",
        "datal = data[:1][0]\n",
        "# read ECG data from the WAV file\n",
        "times = np.arange(len(datal))/256\n",
        "print(times)\n",
        "# apply a 3-pole lowpass filter at 0.1x Nyquist frequency\n",
        "b, a = scipy.signal.butter(3, 0.01)\n",
        "filtered = scipy.signal.filtfilt(b, a, datal)\n",
        "plt.plot(times, filtered)\n",
        "plt.title(\"Filtered EEG Signal\")\n",
        "plt.margins(0, .05)\n",
        "plt. savefig('loss.pdf')"
      ],
      "metadata": {
        "colab": {
          "base_uri": "https://localhost:8080/",
          "height": 315
        },
        "id": "n336ceqgfNPd",
        "outputId": "a0e89250-d5eb-4f10-db92-13fb79b25bdc"
      },
      "execution_count": null,
      "outputs": [
        {
          "output_type": "stream",
          "name": "stdout",
          "text": [
            "[0.00000000e+00 3.90625000e-03 7.81250000e-03 ... 1.23988281e+02\n",
            " 1.23992188e+02 1.23996094e+02]\n"
          ]
        },
        {
          "output_type": "display_data",
          "data": {
            "text/plain": [
              "<Figure size 432x288 with 1 Axes>"
            ],
            "image/png": "[encoded data removed]"
          },
          "metadata": {
            "needs_background": "light"
          }
        }
      ]
    },
    {
      "cell_type": "code",
      "source": [
        "c = np.abs(np.fft.rfft(data))\n",
        "c.shape"
      ],
      "metadata": {
        "colab": {
          "base_uri": "https://localhost:8080/"
        },
        "id": "2j_EIW9kXjs4",
        "outputId": "a4cff2ea-fbbc-42da-b9a3-81d194f00a70"
      },
      "execution_count": null,
      "outputs": [
        {
          "output_type": "execute_result",
          "data": {
            "text/plain": [
              "(360, 15873)"
            ]
          },
          "metadata": {},
          "execution_count": 31
        }
      ]
    },
    {
      "cell_type": "code",
      "source": [
        "c = np.abs(np.fft.rfft(c))\n",
        "c.shape"
      ],
      "metadata": {
        "colab": {
          "base_uri": "https://localhost:8080/"
        },
        "id": "K6PKgI_AX8cT",
        "outputId": "3e16dd53-8369-4c34-b427-d22e104bd3ea"
      },
      "execution_count": null,
      "outputs": [
        {
          "output_type": "execute_result",
          "data": {
            "text/plain": [
              "(360, 7937)"
            ]
          },
          "metadata": {},
          "execution_count": 32
        }
      ]
    },
    {
      "cell_type": "code",
      "source": [
        "c = np.abs(np.fft.rfft(c))\n",
        "c.shape"
      ],
      "metadata": {
        "colab": {
          "base_uri": "https://localhost:8080/"
        },
        "id": "XBeYOPQ_X4Nf",
        "outputId": "2fae4824-1ea7-449e-ec8d-5b20d9375d95"
      },
      "execution_count": null,
      "outputs": [
        {
          "output_type": "execute_result",
          "data": {
            "text/plain": [
              "(360, 3969)"
            ]
          },
          "metadata": {},
          "execution_count": 40
        }
      ]
    },
    {
      "cell_type": "code",
      "source": [
        "data = c"
      ],
      "metadata": {
        "id": "Dq4ntge6YAbk"
      },
      "execution_count": null,
      "outputs": []
    },
    {
      "cell_type": "code",
      "source": [
        "data.shape"
      ],
      "metadata": {
        "colab": {
          "base_uri": "https://localhost:8080/"
        },
        "id": "MNi-Etmggqtj",
        "outputId": "8964767d-78f3-4549-8c03-a1d42d6aaf8a"
      },
      "execution_count": null,
      "outputs": [
        {
          "output_type": "execute_result",
          "data": {
            "text/plain": [
              "(360, 3969)"
            ]
          },
          "metadata": {},
          "execution_count": 42
        }
      ]
    },
    {
      "cell_type": "code",
      "source": [
        "scaler = MinMaxScaler(feature_range=(-1, 1))\n",
        "x_scaled = scaler.fit_transform(data)\n",
        "data = x_scaled\n",
        "print(data.shape)"
      ],
      "metadata": {
        "colab": {
          "base_uri": "https://localhost:8080/"
        },
        "id": "hZxwXOIVEg-m",
        "outputId": "3433ddb3-0781-483a-8384-6e37dba52095"
      },
      "execution_count": null,
      "outputs": [
        {
          "output_type": "stream",
          "name": "stdout",
          "text": [
            "(360, 3969)\n"
          ]
        }
      ]
    },
    {
      "cell_type": "code",
      "source": [
        "X_train, X_test, y_train, y_test = train_test_split(data, labels, test_size=0.30)\n",
        "print('Number of training samples is',len(X_train), 'and shape is', X_train.shape )\n",
        "print('Number of testing samples is',len(X_test),'and shape is', X_test.shape )\n",
        "print('Number of training samples is',len(y_train), 'and shape is', y_train.shape )\n",
        "print('Number of testing samples is',len(y_test),'and shape is', y_test.shape )"
      ],
      "metadata": {
        "colab": {
          "base_uri": "https://localhost:8080/"
        },
        "id": "TxU-AZ13sUxQ",
        "outputId": "2a34719d-54e7-440a-9111-31c542cc0719"
      },
      "execution_count": null,
      "outputs": [
        {
          "output_type": "stream",
          "name": "stdout",
          "text": [
            "Number of training samples is 252 and shape is (252, 3969)\n",
            "Number of testing samples is 108 and shape is (108, 3969)\n",
            "Number of training samples is 252 and shape is (252, 1)\n",
            "Number of testing samples is 108 and shape is (108, 1)\n"
          ]
        }
      ]
    },
    {
      "cell_type": "code",
      "source": [
        "w = np.empty([X_train.shape[1],1])\n",
        "w.fill(0.1) # number of elements in each sample x number of classes\n",
        "b = np.array([0.1])\n",
        "print(w.shape)"
      ],
      "metadata": {
        "colab": {
          "base_uri": "https://localhost:8080/"
        },
        "id": "co87TmfOsliq",
        "outputId": "df812c9e-8db6-49f6-9173-a606d81047bd"
      },
      "execution_count": null,
      "outputs": [
        {
          "output_type": "stream",
          "name": "stdout",
          "text": [
            "(3969, 1)\n"
          ]
        }
      ]
    },
    {
      "cell_type": "markdown",
      "source": [
        "# Logistic Model"
      ],
      "metadata": {
        "id": "acQTdVKyRNXT"
      }
    },
    {
      "cell_type": "code",
      "source": [
        "# calculate forward propagation \n",
        "def forward_propagation(w,x,b):\n",
        "    result = np.dot(w.T,x) + b\n",
        "    y = 1/(1 + np.exp(-result))\n",
        "    return y\n",
        "\n",
        "def get_loss(truth,prediction):#print(truth)\n",
        "    k = len(prediction[0])\n",
        "    calculated_loss = - (np.sum((truth * np.log(prediction) ) + ((1 - truth) * np.log(1 - prediction))))\n",
        "    return calculated_loss/k\n",
        "\n",
        "\n",
        "# calculate backpropagation \n",
        "# Get the dervativate of w i.e change in l with respect to w\n",
        "def back_propagation(x,w,b,prediction, truth,learning_rate=0.1):\n",
        "    pl= prediction-truth\n",
        "    dw = np.dot(x, pl.T)/len(prediction[0])\n",
        "    db = np.sum(pl,axis=1)/ len(prediction[0])\n",
        "    w = w - np.dot(learning_rate , dw)\n",
        "    b = b - np.dot(learning_rate ,db)\n",
        "    return w, b"
      ],
      "metadata": {
        "id": "M8CahXj5szL3"
      },
      "execution_count": null,
      "outputs": []
    },
    {
      "cell_type": "code",
      "source": [
        "import sklearn as skl\n",
        "epochs = 300\n",
        "batch = 12\n",
        "batch_size = X_train.shape[0]//batch\n",
        "total_loss = []\n",
        "total_acc = []\n",
        "for i in range(epochs):\n",
        "  for i in range(batch): \n",
        "    # validation data \n",
        "    val_X_train = X_train[i * batch_size: (i + 1) * batch_size]\n",
        "    val_y_train = y_train[i * batch_size: (i + 1) * batch_size]\n",
        "\n",
        "    # Prepare the training data: data from all other partitions\n",
        "    x = np.concatenate([X_train[:i * batch_size], X_train[ (i + 1) * batch_size: ]], axis=0)\n",
        "    y = np.concatenate([y_train[:i * batch_size], y_train[ (i + 1) * batch_size:]], axis=0)\n",
        "    \n",
        "    # Fp\n",
        "    prediction = forward_propagation(w,x.T,b)\n",
        "    w,b  = back_propagation(x.T,w,b,prediction,y.T)\n",
        "    # evaluate loss using validation data, \n",
        "    prediction = forward_propagation(w,val_X_train.T,b)\n",
        "    loss = get_loss(val_y_train.T,prediction)\n",
        "\n",
        "    prediction = np.round(abs(prediction))\n",
        "    prediction = prediction.T\n",
        "\n",
        "    acc = skl.metrics.accuracy_score(val_y_train,prediction)\n",
        "  print(loss)  \n",
        "  total_loss.append(loss)\n",
        "  total_acc.append(acc)\n"
      ],
      "metadata": {
        "id": "UzeZ1xVnumE8"
      },
      "execution_count": null,
      "outputs": []
    },
    {
      "cell_type": "code",
      "source": [
        "import matplotlib.pyplot as plt \n",
        "plt.plot(total_loss)\n",
        "plt. savefig('loss.pdf')\n",
        "plt.show()\n"
      ],
      "metadata": {
        "colab": {
          "base_uri": "https://localhost:8080/",
          "height": 265
        },
        "id": "tSIBmH27czbL",
        "outputId": "fee01aa8-fc28-40b9-c504-282d7600cbdb"
      },
      "execution_count": null,
      "outputs": [
        {
          "output_type": "display_data",
          "data": {
            "text/plain": [
              "<Figure size 432x288 with 1 Axes>"
            ],
            "image/png": "[encoded data removed]"
          },
          "metadata": {
            "needs_background": "light"
          }
        }
      ]
    },
    {
      "cell_type": "code",
      "source": [
        "prediction = forward_propagation(w,X_test.T,b)\n",
        "prediction = np.round(abs(prediction))\n",
        "prediction = prediction.T\n",
        "y_predicted = prediction\n",
        "mat = confusion_matrix(y_test, y_predicted)\n",
        "labels = ['Low', 'Medium']\n",
        " \n",
        "sns.heatmap(mat, square=True, annot=True, fmt='d', cbar=False,cmap='Blues',\n",
        "            xticklabels=labels, yticklabels=labels)\n",
        "\n",
        "\n",
        "plt.xlabel('Predicted label')\n",
        "plt.ylabel('Actual label')\n",
        "plt. savefig('cm.pdf')"
      ],
      "metadata": {
        "colab": {
          "base_uri": "https://localhost:8080/",
          "height": 279
        },
        "id": "lUn9C-cvnXSz",
        "outputId": "aa061138-759a-4a8a-b536-7a2feac26c28"
      },
      "execution_count": null,
      "outputs": [
        {
          "output_type": "display_data",
          "data": {
            "text/plain": [
              "<Figure size 432x288 with 1 Axes>"
            ],
            "image/png": "[encoded data removed]"
          },
          "metadata": {
            "needs_background": "light"
          }
        }
      ]
    },
    {
      "cell_type": "code",
      "source": [
        "prediction = forward_propagation(w,X_test.T,b)\n",
        "prediction = np.round(abs(prediction))\n",
        "prediction = prediction.T\n",
        "cm = confusion_matrix(y_test, prediction)\n",
        "disp = skl.metrics.ConfusionMatrixDisplay(confusion_matrix=cm)  \n",
        "disp.plot()\n",
        "plt.show()"
      ],
      "metadata": {
        "colab": {
          "base_uri": "https://localhost:8080/",
          "height": 279
        },
        "id": "1DHx0JopPI9q",
        "outputId": "5e2b14c7-78d5-494d-8741-9a619bbc8e04"
      },
      "execution_count": null,
      "outputs": [
        {
          "output_type": "display_data",
          "data": {
            "text/plain": [
              "<Figure size 432x288 with 2 Axes>"
            ],
            "image/png": "[encoded data removed]"
          },
          "metadata": {
            "needs_background": "light"
          }
        }
      ]
    },
    {
      "cell_type": "markdown",
      "source": [
        "# Deep Learning Model"
      ],
      "metadata": {
        "id": "rRz3XyWVRSKM"
      }
    },
    {
      "cell_type": "code",
      "source": [
        "from tensorflow import keras\n",
        "import tensorflow as tf\n",
        "from tensorflow.keras import layers\n",
        "from keras.layers import Dense, Activation, Flatten\n",
        "from keras.callbacks import EarlyStopping,ModelCheckpoint,LearningRateScheduler\n",
        "from sklearn.model_selection import train_test_split\n",
        "model = keras.Sequential([\n",
        "                          keras.layers.Dense(64, activation=tf.nn.relu),\n",
        "                          keras.layers.Dense(64, activation=tf.nn.relu),\n",
        "                          keras.layers.Dropout(0.3),\n",
        "                          keras.layers.Dense(1, activation=tf.nn.sigmoid),\n",
        "                          ])\n",
        "model.compile(optimizer='adam',\n",
        "          loss='binary_crossentropy',\n",
        "             metrics=['accuracy'])\n",
        "\n",
        "history = model.fit(X_train, y_train,\n",
        "                batch_size=21,\n",
        "                epochs=300,\n",
        "                validation_data=(X_test, y_test))#,callbacks=callbacks)\n",
        "\n",
        "\n",
        "test_loss, test_acc = model.evaluate(X_test, y_test)\n",
        "print('Test accuracy:', test_acc)"
      ],
      "metadata": {
        "id": "lq2NH5auPgWl"
      },
      "execution_count": null,
      "outputs": []
    },
    {
      "cell_type": "code",
      "source": [
        "model.summary()"
      ],
      "metadata": {
        "colab": {
          "base_uri": "https://localhost:8080/"
        },
        "id": "bDpsFXxru7LT",
        "outputId": "a8619cf4-f441-42a9-e562-62738e7a6bd5"
      },
      "execution_count": null,
      "outputs": [
        {
          "output_type": "stream",
          "name": "stdout",
          "text": [
            "Model: \"sequential\"\n",
            "_________________________________________________________________\n",
            " Layer (type)                Output Shape              Param #   \n",
            "=================================================================\n",
            " dense (Dense)               (None, 64)                254080    \n",
            "                                                                 \n",
            " dense_1 (Dense)             (None, 64)                4160      \n",
            "                                                                 \n",
            " dropout (Dropout)           (None, 64)                0         \n",
            "                                                                 \n",
            " dense_2 (Dense)             (None, 1)                 65        \n",
            "                                                                 \n",
            "=================================================================\n",
            "Total params: 258,305\n",
            "Trainable params: 258,305\n",
            "Non-trainable params: 0\n",
            "_________________________________________________________________\n"
          ]
        }
      ]
    },
    {
      "cell_type": "code",
      "source": [
        "# plot accuracy \n",
        "plt.plot(history.history['accuracy'], label='train_accuracy')\n",
        "plt.plot(history.history['val_accuracy'], label = 'val_accuracy')\n",
        "plt.xlabel('Epoch')\n",
        "plt.ylabel('Accuracy')\n",
        "plt.legend(loc='lower right')"
      ],
      "metadata": {
        "colab": {
          "base_uri": "https://localhost:8080/",
          "height": 296
        },
        "id": "EFnCZULMPkuy",
        "outputId": "7de7ebb6-4607-42e6-c9e4-1f407e8d503a"
      },
      "execution_count": null,
      "outputs": [
        {
          "output_type": "execute_result",
          "data": {
            "text/plain": [
              "<matplotlib.legend.Legend at 0x7f34eef115d0>"
            ]
          },
          "metadata": {},
          "execution_count": 59
        },
        {
          "output_type": "display_data",
          "data": {
            "text/plain": [
              "<Figure size 432x288 with 1 Axes>"
            ],
            "image/png": "[encoded data removed]"
          },
          "metadata": {
            "needs_background": "light"
          }
        }
      ]
    },
    {
      "cell_type": "code",
      "source": [
        "# plot loss\n",
        "plt.plot(history.history['loss'], label='loss')\n",
        "plt.xlabel('Epoch')\n",
        "plt.ylabel('Accuracy')\n",
        "plt.legend(loc='lower right')\n",
        "plt. savefig('loss.pdf')"
      ],
      "metadata": {
        "colab": {
          "base_uri": "https://localhost:8080/",
          "height": 279
        },
        "id": "04iYL1F6lpE0",
        "outputId": "10c86063-269b-4378-841a-57ab44134ac2"
      },
      "execution_count": null,
      "outputs": [
        {
          "output_type": "display_data",
          "data": {
            "text/plain": [
              "<Figure size 432x288 with 1 Axes>"
            ],
            "image/png": "[encoded data removed]"
          },
          "metadata": {
            "needs_background": "light"
          }
        }
      ]
    },
    {
      "cell_type": "code",
      "source": [
        "y_predicted = model.predict(X_test) > 0.5\n",
        "mat = confusion_matrix(y_test, y_predicted)\n",
        "labels = ['Low', 'Medium']\n",
        " \n",
        "sns.heatmap(mat, square=True, annot=True, fmt='d', cbar=False,cmap='Blues',\n",
        "            xticklabels=labels, yticklabels=labels)\n",
        "\n",
        "\n",
        "plt.xlabel('Predicted label')\n",
        "plt.ylabel('Actual label')\n",
        "plt. savefig('cm.pdf')\n",
        "\n",
        "# https://www.pluralsight.com/guides/deep-learning-model-perform-binary-classification\n",
        "# Vaibhav Sharma\n",
        "# 2019\n",
        "# A Deep Learning Model to Perform Binary Classification"
      ],
      "metadata": {
        "colab": {
          "base_uri": "https://localhost:8080/",
          "height": 279
        },
        "id": "ZAPsscE3QhZR",
        "outputId": "f5807f86-4420-43f9-cfa3-be753ae3e1d8"
      },
      "execution_count": null,
      "outputs": [
        {
          "output_type": "display_data",
          "data": {
            "text/plain": [
              "<Figure size 432x288 with 1 Axes>"
            ],
            "image/png": "[encoded data removed]"
          },
          "metadata": {
            "needs_background": "light"
          }
        }
      ]
    },
    {
      "cell_type": "code",
      "source": [
        "fig = plt.figure()\n",
        "ax = fig.add_axes([0,0,1,1])\n",
        "langs = ['Logistic Model', 'Deep Learning Model']\n",
        "students = [23,75]\n",
        "ax.bar(langs,students)\n",
        "plt.show()"
      ],
      "metadata": {
        "id": "tAiXL3eingqz"
      },
      "execution_count": null,
      "outputs": []
    }
  ]
}